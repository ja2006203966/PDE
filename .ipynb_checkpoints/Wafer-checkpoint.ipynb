{
 "cells": [
  {
   "cell_type": "code",
   "execution_count": null,
   "metadata": {},
   "outputs": [],
   "source": [
    "import numpy as np\n",
    "import pandas as pd\n",
    "import copy\n",
    "from matplotlib import pyplot as plt"
   ]
  },
  {
   "cell_type": "code",
   "execution_count": null,
   "metadata": {},
   "outputs": [],
   "source": [
    "def preprocessing(path = \"test.csv\", bins = (300, 300)):\n",
    "    df = pd.read_csv(path)\n",
    "    X = np.array(df['X'])\n",
    "    X = np.expand_dims(X, axis = -1)\n",
    "    Y = np.array(df['Y'])\n",
    "    Y = np.expand_dims(Y, axis = -1)\n",
    "    Z = np.array(df['Value'])\n",
    "    Z = np.expand_dims(Z, axis = -1)\n",
    "    dfnp = np.concatenate((X,Y,Z), axis=-1)\n",
    "    dfnp = np.expand_dims(dfnp, axis=0)\n",
    "    N = int(bins[0]*bins[1])\n",
    "    dfnp = np.tile(dfnp, (N,1,1))\n",
    "    return dfnp\n",
    "def Caculate(dfnp, bins = (300, 300)):\n",
    "    bias = (bins[0]/2, bins[1]/2)\n",
    "    a = np.array([[i-bias[0], j-bias[1], 0] for j in range(bins[1]) for i in range(bins[0])])\n",
    "    tmp = np.expand_dims(a, axis=1)\n",
    "    tmp = np.tile(tmp, (1, dfnp.shape[1], 1))\n",
    "    diff = dfnp - tmp\n",
    "    r = np.sqrt(diff[:,:,0]**2 + diff[:,:,1]**2)\n",
    "    ind = np.argsort(r, axis=-1)\n",
    "    X = a[:,0]\n",
    "    Y = a[:,1]\n",
    "    Z = np.take_along_axis(diff[:,:,2], ind, axis=-1)\n",
    "    Z = Z[:,:2]\n",
    "    r = np.take_along_axis(r, ind, axis=-1)\n",
    "    r = r[:, :2]\n",
    "    diff_r = r[:,0]+r[:,1]\n",
    "    diff_Z = Z[:,0]-Z[:,1]\n",
    "    diff = diff_Z/diff_r\n",
    "    Z = diff*r[:,1]+Z[:,1]\n",
    "    return X, Y, Z\n",
    "\n",
    "def Caculate_im(dfnp, bins = (300, 300), inteval = ((-150, 150), (-150, 150)), mean_r=0 ):\n",
    "    x, y = np.linspace(*inteval[0], num = bins[0]), np.linspace(*inteval[1], num = bins[1])\n",
    "    a = np.array([[x[i], y[j], 0] for j in range(bins[1]) for i in range(bins[0])])\n",
    "    tmp = np.expand_dims(a, axis=1)\n",
    "    tmp = np.tile(tmp, (1, dfnp.shape[1], 1))\n",
    "    diff = dfnp - tmp\n",
    "    r = np.sqrt(diff[:,:,0]**2 + diff[:,:,1]**2)\n",
    "    ind = np.argsort(r, axis=-1)\n",
    "    X = a[:,0]\n",
    "    Y = a[:,1]\n",
    "    Z = diff[:,:,2]\n",
    "    mean_r = np.mean(r, axis =-1)\n",
    "    mean_r = np.expand_dims(mean_r, axis =-1)\n",
    "    mean_r = np.tile(mean_r, (1, r.shape[-1]))\n",
    "    std_r = np.std(r, axis =-1)\n",
    "    std_r = np.expand_dims(std_r, axis =-1)\n",
    "    std_r = np.tile(std_r, (1, r.shape[-1]))\n",
    "    std_r = std_r/2\n",
    "    norm_r = np.exp( -((r)/std_r)**2/2 )/(np.sqrt(2*np.pi)*std_r )\n",
    "    sum_norm = np.sum(norm_r, axis=-1)\n",
    "#     Z = sum_norm\n",
    "    sum_norm = np.expand_dims(sum_norm, axis =-1)\n",
    "    sum_norm = np.tile(sum_norm, (1, r.shape[-1]))\n",
    "    norm_r = norm_r/sum_norm\n",
    "    Z = np.sum(Z*norm_r, axis=-1)\n",
    "    return X, Y, Z\n",
    "    "
   ]
  },
  {
   "cell_type": "code",
   "execution_count": null,
   "metadata": {},
   "outputs": [],
   "source": [
    "\n",
    "dfnp = preprocessing(path = \"test.csv\", bins = (300, 300))\n",
    "X, Y, Z =  Caculate_im(dfnp, bins = (300, 300))\n",
    "df = pd.read_csv('./test.csv')\n",
    "fig = plt.figure(figsize = (20,16))\n",
    "ax = fig.add_subplot(111)\n",
    "# img = ax.scatter(X, Y, c=Z, alpha = 0.8, s=3, marker = 's')\n",
    "img = ax.scatter(X, Y, c=Z, alpha = 0.8, cmap=mpl.cm.rainbow,  marker = 'o')\n",
    "circle_r, circle_theta = np.linspace(150, 150, num=100),np.linspace(0, 2*np.pi, num=100) \n",
    "cx, cy = circle_r*np.cos(circle_theta), circle_r*np.sin(circle_theta)\n",
    "ax.plot(cx, cy, '-')\n",
    "ax.scatter(df['X'], df['Y'], c='black', alpha = 0.8, cmap=mpl.cm.rainbow,  marker = 'o')\n",
    "fig.colorbar(img)\n",
    "plt.show()"
   ]
  }
 ],
 "metadata": {
  "kernelspec": {
   "display_name": "Python 3",
   "language": "python",
   "name": "python3"
  },
  "language_info": {
   "codemirror_mode": {
    "name": "ipython",
    "version": 3
   },
   "file_extension": ".py",
   "mimetype": "text/x-python",
   "name": "python",
   "nbconvert_exporter": "python",
   "pygments_lexer": "ipython3",
   "version": "3.7.3"
  }
 },
 "nbformat": 4,
 "nbformat_minor": 4
}
