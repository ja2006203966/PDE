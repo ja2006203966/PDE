{
 "cells": [
  {
   "cell_type": "code",
   "execution_count": 1,
   "metadata": {},
   "outputs": [],
   "source": [
    "import sympy"
   ]
  },
  {
   "cell_type": "code",
   "execution_count": 2,
   "metadata": {},
   "outputs": [],
   "source": [
    "from sympy import E, Eq, Function, pde_separate, Derivative as D\n",
    "from sympy.abc import x, y, z\n",
    "u, X, T = map(Function, 'uXT')"
   ]
  },
  {
   "cell_type": "code",
   "execution_count": 3,
   "metadata": {},
   "outputs": [
    {
     "data": {
      "text/plain": [
       "u"
      ]
     },
     "execution_count": 3,
     "metadata": {},
     "output_type": "execute_result"
    }
   ],
   "source": [
    "eq = Eq(D(u(x,y,z),x   )"
   ]
  },
  {
   "cell_type": "code",
   "execution_count": 6,
   "metadata": {},
   "outputs": [],
   "source": [
    "import numpy as np\n",
    "import matplotlib.pyplot as plt"
   ]
  },
  {
   "cell_type": "code",
   "execution_count": 5,
   "metadata": {},
   "outputs": [
    {
     "data": {
      "text/plain": [
       "'\\nQBD\\n'"
      ]
     },
     "execution_count": 5,
     "metadata": {},
     "output_type": "execute_result"
    }
   ],
   "source": [
    "#  V -> R^3\n",
    "#  i, j, k -> x_i, y_j, z_k\n",
    "#  dV(x,y,z)/dx = [V(x_(i+1) ) - V(x_i)]/ [x_(i+1) - x_(i)]\n",
    "#  continue: x - >  array:x with bin size\n",
    "\n"
   ]
  },
  {
   "cell_type": "code",
   "execution_count": 166,
   "metadata": {},
   "outputs": [],
   "source": [
    "class Space:\n",
    "    def __init__(self, basis: list, bins = (32, 32, 32)):\n",
    "        self.bins = bins\n",
    "        self.coordination = 'Catesian'\n",
    "        self.dimension = len(basis)\n",
    "        self.basis = []\n",
    "        if self.dimension >=1:\n",
    "            self.b1 = np.linspace(*basis[0], num = bins[0])\n",
    "            self.basis.append(self.b1)\n",
    "        if self.dimension >=2:\n",
    "            self.b2 = np.linspace(*basis[1], num = bins[1])\n",
    "            self.basis.append(self.b2)\n",
    "        if self.dimension >=3:\n",
    "            self.b3 = np.linspace(*basis[2], num = bins[2])\n",
    "            self.basis.append(self.b3)\n",
    "        basis_expand  = [[j for j in range(self.dimension) if j!=i] for i in range(self.dimension)]\n",
    "        for i in range(self.dimension):\n",
    "            for j in basis_expand[i]:\n",
    "                self.basis[i] = np.expand_dims(self.basis[i], axis = j)\n",
    "    def to_numpy(self,):\n",
    "        basis_expand  = [[self.bins[j] if j!=i else 1 for j in range(self.dimension) ] for i in range(self.dimension)]\n",
    "        basis  = self.basis\n",
    "        for i in range(self.dimension):\n",
    "            basis[i] = np.tile(basis[i], tuple(basis_expand[i]) )\n",
    "            basis[i] = np.expand_dims(basis[i], axis=-1)\n",
    "        basis = tuple(basis)\n",
    "        return np.concatenate(basis, axis=-1)\n",
    "    \n",
    "    \n",
    "        "
   ]
  },
  {
   "cell_type": "code",
   "execution_count": 159,
   "metadata": {},
   "outputs": [],
   "source": [
    "x, y, z = (0,1), (-1,1), (0,2)\n",
    "sp = [x,y,z]\n",
    "sp = Space(sp)"
   ]
  },
  {
   "cell_type": "code",
   "execution_count": 167,
   "metadata": {},
   "outputs": [],
   "source": [
    "x = (0,1)\n",
    "sp = [x]\n",
    "sp = Space(sp)"
   ]
  },
  {
   "cell_type": "code",
   "execution_count": 18,
   "metadata": {},
   "outputs": [],
   "source": [
    "sp.bins = (64,64,64)"
   ]
  },
  {
   "cell_type": "code",
   "execution_count": 67,
   "metadata": {},
   "outputs": [],
   "source": [
    "a = np.expand_dims(sp.b1, axis = 1)\n",
    "a = np.expand_dims(a, axis = 2)\n",
    "# a = np.tile(a, (1,32,32))"
   ]
  },
  {
   "cell_type": "code",
   "execution_count": null,
   "metadata": {},
   "outputs": [],
   "source": []
  },
  {
   "cell_type": "code",
   "execution_count": 168,
   "metadata": {},
   "outputs": [],
   "source": [
    "a = sp.to_numpy() "
   ]
  },
  {
   "cell_type": "code",
   "execution_count": 169,
   "metadata": {},
   "outputs": [
    {
     "data": {
      "text/plain": [
       "(32, 1)"
      ]
     },
     "execution_count": 169,
     "metadata": {},
     "output_type": "execute_result"
    }
   ],
   "source": [
    "a.shape"
   ]
  },
  {
   "cell_type": "code",
   "execution_count": 140,
   "metadata": {},
   "outputs": [
    {
     "data": {
      "text/plain": [
       "(1, 2, 4)"
      ]
     },
     "execution_count": 140,
     "metadata": {},
     "output_type": "execute_result"
    }
   ],
   "source": [
    "tuple([1,2,4])"
   ]
  },
  {
   "cell_type": "code",
   "execution_count": 170,
   "metadata": {},
   "outputs": [
    {
     "data": {
      "text/plain": [
       "array([[0.        ],\n",
       "       [0.03225806],\n",
       "       [0.06451613],\n",
       "       [0.09677419],\n",
       "       [0.12903226],\n",
       "       [0.16129032],\n",
       "       [0.19354839],\n",
       "       [0.22580645],\n",
       "       [0.25806452],\n",
       "       [0.29032258],\n",
       "       [0.32258065],\n",
       "       [0.35483871],\n",
       "       [0.38709677],\n",
       "       [0.41935484],\n",
       "       [0.4516129 ],\n",
       "       [0.48387097],\n",
       "       [0.51612903],\n",
       "       [0.5483871 ],\n",
       "       [0.58064516],\n",
       "       [0.61290323],\n",
       "       [0.64516129],\n",
       "       [0.67741935],\n",
       "       [0.70967742],\n",
       "       [0.74193548],\n",
       "       [0.77419355],\n",
       "       [0.80645161],\n",
       "       [0.83870968],\n",
       "       [0.87096774],\n",
       "       [0.90322581],\n",
       "       [0.93548387],\n",
       "       [0.96774194],\n",
       "       [1.        ]])"
      ]
     },
     "execution_count": 170,
     "metadata": {},
     "output_type": "execute_result"
    }
   ],
   "source": [
    "a"
   ]
  },
  {
   "cell_type": "code",
   "execution_count": null,
   "metadata": {},
   "outputs": [],
   "source": []
  }
 ],
 "metadata": {
  "kernelspec": {
   "display_name": "Python 3 (ipykernel)",
   "language": "python",
   "name": "python3"
  },
  "language_info": {
   "codemirror_mode": {
    "name": "ipython",
    "version": 3
   },
   "file_extension": ".py",
   "mimetype": "text/x-python",
   "name": "python",
   "nbconvert_exporter": "python",
   "pygments_lexer": "ipython3",
   "version": "3.8.10"
  }
 },
 "nbformat": 4,
 "nbformat_minor": 4
}
